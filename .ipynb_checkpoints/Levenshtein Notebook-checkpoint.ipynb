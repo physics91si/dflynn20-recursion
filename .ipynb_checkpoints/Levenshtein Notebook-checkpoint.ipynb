{
 "cells": [
  {
   "cell_type": "code",
   "execution_count": 12,
   "metadata": {
    "collapsed": false
   },
   "outputs": [],
   "source": [
    "\n",
    "def lev(s1, s2):\n",
    "    if s1 == \"\" and s2 == \"\":\n",
    "        return 0\n",
    "    elif s1 == \"\":\n",
    "        return (1 + lev(s1, s2[1:]))\n",
    "    elif s2 == \"\":\n",
    "        return (1 + lev(s1[1:], s2))\n",
    "    elif s1[0] == s2[0]:\n",
    "        return lev(s1[1:],s2[1:])\n",
    "    else:\n",
    "        x = 1 + lev(s1[1:], s2)\n",
    "        y = 1 + lev(s1, s2[1:])\n",
    "        z = 1 + lev(s1[1:], s2[1:])\n",
    "        return min(x,y,z)\n",
    "        "
   ]
  },
  {
   "cell_type": "code",
   "execution_count": 13,
   "metadata": {
    "collapsed": false
   },
   "outputs": [
    {
     "data": {
      "text/plain": [
       "4"
      ]
     },
     "execution_count": 13,
     "metadata": {},
     "output_type": "execute_result"
    }
   ],
   "source": [
    "lev(\"donny\",\"ronaldy\")"
   ]
  },
  {
   "cell_type": "code",
   "execution_count": null,
   "metadata": {
    "collapsed": true
   },
   "outputs": [],
   "source": []
  }
 ],
 "metadata": {
  "kernelspec": {
   "display_name": "Python 3",
   "language": "python",
   "name": "python3"
  },
  "language_info": {
   "codemirror_mode": {
    "name": "ipython",
    "version": 3
   },
   "file_extension": ".py",
   "mimetype": "text/x-python",
   "name": "python",
   "nbconvert_exporter": "python",
   "pygments_lexer": "ipython3",
   "version": "3.6.0"
  }
 },
 "nbformat": 4,
 "nbformat_minor": 2
}
